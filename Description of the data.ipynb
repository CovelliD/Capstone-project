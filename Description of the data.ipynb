{
 "cells": [
  {
   "cell_type": "markdown",
   "metadata": {},
   "source": [
    "<h3 align=\"center\">Description of the data</h3> "
   ]
  },
  {
   "cell_type": "markdown",
   "metadata": {},
   "source": [
    "The work is divided into three chapters, each containing a different set of data. Multiple techniques and tools are used to analyse the data in every chapter. One city and its respective country are excluded after every chapter. "
   ]
  },
  {
   "cell_type": "markdown",
   "metadata": {},
   "source": [
    "The goal of the first chapter is to compare the property prices of different cities, taken as an indicator of the expenses that the company would sustain in different countries. One city has to be excluded due to its cost being too high. The data is scraped from Numbeo, the world’s largest database of user contributed data about cities and countries worldwide. "
   ]
  },
  {
   "cell_type": "markdown",
   "metadata": {},
   "source": [
    "The goal of the second chapter is to determine to what extent the remaining countries can be considered safe to live in. The country with a degree of conflict that is considered too high is excluded. The data is taken from the Armed Conflict Location & Event Data Project (ACLED), a disaggregated conflict collection, analysis and crisis mapping project. After managing the data to suit the needs of the project, the data is visualized using maps based on Choropleth and Folium. "
   ]
  },
  {
   "cell_type": "markdown",
   "metadata": {},
   "source": [
    "Only two cities will remain at the outset of the third chapter. The final assessment is based on the ability of the cities to attract foreigners and look appealing to members of the international community. The most common venues of the last two cities are identified with the Foursquare API. The k-means algorithm is then used to cluster venue categories. A final assessment of quantitative (number of venues) and qualitative (venue categories) variables is performed to determine the city that best suits the needs of the corporation. "
   ]
  }
 ],
 "metadata": {
  "kernelspec": {
   "display_name": "Python 3",
   "language": "python",
   "name": "python3"
  },
  "language_info": {
   "codemirror_mode": {
    "name": "ipython",
    "version": 3
   },
   "file_extension": ".py",
   "mimetype": "text/x-python",
   "name": "python",
   "nbconvert_exporter": "python",
   "pygments_lexer": "ipython3",
   "version": "3.7.1"
  }
 },
 "nbformat": 4,
 "nbformat_minor": 2
}
