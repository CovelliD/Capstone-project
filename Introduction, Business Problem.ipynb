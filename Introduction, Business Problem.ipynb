{
 "cells": [
  {
   "cell_type": "markdown",
   "metadata": {},
   "source": [
    "<h3 align=\"center\">Introduction /  Business problem</h3>         "
   ]
  },
  {
   "cell_type": "markdown",
   "metadata": {},
   "source": [
    "The consulting company I work for has received a new challenging request from a client, a multinational corporation: expanding the corporation’s business activities in the Levant region of the Middle East. As a result, I have been assigned the task of identifying the most suitable location of the Levant where to establish the corporation’s new headquarters in the Middle East."
   ]
  },
  {
   "cell_type": "markdown",
   "metadata": {},
   "source": [
    "The client has two main concerns: remaining within budget limits and avoiding locations affected by continuous conflicts or an unstable political situation. The client would also like a city that can be attractive to the best minds of the international community and, at the same time, be physically close to the main institutions of the country."
   ]
  },
  {
   "cell_type": "markdown",
   "metadata": {},
   "source": [
    "Therefore, looking for cities of the Levant with good infrastructure, close to the major institutions and able to offer a good a life-style for travellers and members of the international community, I started focusing on some major cities of the countries of the Levant, i.e. Amman (Jordan), Beirut (Lebanon), Damascus (Syria) and Tel Aviv (Israel). "
   ]
  }
 ],
 "metadata": {
  "kernelspec": {
   "display_name": "Python 3",
   "language": "python",
   "name": "python3"
  },
  "language_info": {
   "codemirror_mode": {
    "name": "ipython",
    "version": 3
   },
   "file_extension": ".py",
   "mimetype": "text/x-python",
   "name": "python",
   "nbconvert_exporter": "python",
   "pygments_lexer": "ipython3",
   "version": "3.7.1"
  }
 },
 "nbformat": 4,
 "nbformat_minor": 2
}
